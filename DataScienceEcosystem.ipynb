{
 "cells": [
  {
   "cell_type": "markdown",
   "id": "68a42b8b",
   "metadata": {},
   "source": [
    "# Data Science Tools and Ecosystem"
   ]
  },
  {
   "cell_type": "markdown",
   "id": "a7543a01",
   "metadata": {},
   "source": [
    "In this notebook, Data Science Tools and Ecosystem are summarized."
   ]
  },
  {
   "cell_type": "markdown",
   "id": "82972084",
   "metadata": {},
   "source": [
    "**Objectives:**\n",
    "- Popular languages for Data Science\n",
    "- Popular libraries for Data Science \n",
    "- Basic Python Operations"
   ]
  },
  {
   "cell_type": "markdown",
   "id": "5b67cb6d",
   "metadata": {},
   "source": [
    "Some of the popular languages that Data Scientists use are: \n",
    "\n",
    "    1. Python\n",
    "    2. R   \n",
    "    3. SQL\n",
    "    "
   ]
  },
  {
   "cell_type": "markdown",
   "id": "4962e06a",
   "metadata": {},
   "source": [
    "Some of the commonly used libraries used by Data Scientists include:\n",
    "    \n",
    "    1. matlibplot (Python)\n",
    "    2. scipy (Python)\n",
    "    3. numpy (Python)\n",
    "    4. ggplot (R)"
   ]
  },
  {
   "cell_type": "markdown",
   "id": "c18cc863",
   "metadata": {},
   "source": [
    "|Data Science Tools|\n",
    "|------------------|\n",
    "|Rstudio|\n",
    "|Jupyter Notebook|\n",
    "|Spyder|"
   ]
  },
  {
   "cell_type": "markdown",
   "id": "4f6090cd",
   "metadata": {},
   "source": [
    "### Below are a few examples of evaluating arithematic expressions in Python \n",
    "\n",
    "1. 1+1\n",
    "2. 1-1\n",
    "3. 1*1\n",
    "4. 1/1\n"
   ]
  },
  {
   "cell_type": "code",
   "execution_count": 3,
   "id": "cc516a2b",
   "metadata": {},
   "outputs": [
    {
     "data": {
      "text/plain": [
       "17"
      ]
     },
     "execution_count": 3,
     "metadata": {},
     "output_type": "execute_result"
    }
   ],
   "source": [
    "# This is  simple arithematic expression to multiply then add integers\n",
    "(3*4)+5"
   ]
  },
  {
   "cell_type": "code",
   "execution_count": 4,
   "id": "55b070a6",
   "metadata": {},
   "outputs": [
    {
     "name": "stdout",
     "output_type": "stream",
     "text": [
      "3.3333333333333335\n"
     ]
    }
   ],
   "source": [
    "#This will convert 200 minutes to hours by dividing 60\n",
    "minute = 200\n",
    "hours = minute/60\n",
    "print(hours)"
   ]
  },
  {
   "cell_type": "markdown",
   "id": "66c7934c",
   "metadata": {},
   "source": [
    "## Author\n",
    "Ka Yiu Deep Li"
   ]
  },
  {
   "cell_type": "code",
   "execution_count": null,
   "id": "fbb8f085",
   "metadata": {},
   "outputs": [],
   "source": []
  }
 ],
 "metadata": {
  "kernelspec": {
   "display_name": "Python 3 (ipykernel)",
   "language": "python",
   "name": "python3"
  },
  "language_info": {
   "codemirror_mode": {
    "name": "ipython",
    "version": 3
   },
   "file_extension": ".py",
   "mimetype": "text/x-python",
   "name": "python",
   "nbconvert_exporter": "python",
   "pygments_lexer": "ipython3",
   "version": "3.9.13"
  }
 },
 "nbformat": 4,
 "nbformat_minor": 5
}
